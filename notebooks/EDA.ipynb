{
 "cells": [
  {
   "cell_type": "code",
   "execution_count": 16,
   "id": "713696e5",
   "metadata": {},
   "outputs": [],
   "source": [
    "# Importar librerías\n",
    "import plotly_express as px\n",
    "import pandas as pd\n",
    "import plotly.io as pio"
   ]
  },
  {
   "cell_type": "code",
   "execution_count": 17,
   "id": "47c9ebbb",
   "metadata": {},
   "outputs": [],
   "source": [
    "# Cargar el dataset\n",
    "car_data = pd.read_csv('../vehicles_us.csv')"
   ]
  },
  {
   "cell_type": "code",
   "execution_count": 18,
   "id": "d28ecf40",
   "metadata": {},
   "outputs": [],
   "source": [
    "pio.renderers.default = 'browser'"
   ]
  },
  {
   "cell_type": "code",
   "execution_count": null,
   "id": "e7f448a4",
   "metadata": {},
   "outputs": [],
   "source": [
    "# Crear un histograma\n",
    "fig = px.histogram(car_data, x='odometer')\n",
    "#Mostrar el histograma\n",
    "fig.show()"
   ]
  }
 ],
 "metadata": {
  "kernelspec": {
   "display_name": ".venv",
   "language": "python",
   "name": "python3"
  },
  "language_info": {
   "codemirror_mode": {
    "name": "ipython",
    "version": 3
   },
   "file_extension": ".py",
   "mimetype": "text/x-python",
   "name": "python",
   "nbconvert_exporter": "python",
   "pygments_lexer": "ipython3",
   "version": "3.12.7"
  }
 },
 "nbformat": 4,
 "nbformat_minor": 5
}
